{
 "cells": [
  {
   "cell_type": "code",
   "execution_count": 1,
   "metadata": {},
   "outputs": [],
   "source": [
    "import pandas as pd\n",
    "import numpy as np\n",
    "import matplotlib.pyplot as plt\n",
    "from sklearn import linear_model"
   ]
  },
  {
   "cell_type": "code",
   "execution_count": 2,
   "metadata": {},
   "outputs": [],
   "source": [
    "area = pd.Series([\"2600\", \"3000\", \"3200\", \"3600\", \"4000\"])\n",
    "price = pd.Series([\"550000\", \"565000\", \"610000\", \"680000\", \"725000\"])"
   ]
  },
  {
   "cell_type": "code",
   "execution_count": 3,
   "metadata": {},
   "outputs": [],
   "source": [
    "df = pd.DataFrame({\"Area\": area,\n",
    "                     \"Price\": price})"
   ]
  },
  {
   "cell_type": "code",
   "execution_count": 4,
   "metadata": {},
   "outputs": [],
   "source": [
    "df = pd.read_csv(\"data.csv\")"
   ]
  },
  {
   "cell_type": "code",
   "execution_count": 13,
   "metadata": {},
   "outputs": [
    {
     "data": {
      "text/plain": [
       "[Text(0.5, 1.0, 'Area vs Prices'),\n",
       " Text(0.5, 0, 'Area'),\n",
       " Text(0, 0.5, 'Prices'),\n",
       " None]"
      ]
     },
     "execution_count": 13,
     "metadata": {},
     "output_type": "execute_result"
    },
    {
     "data": {
      "image/png": "[encoded data removed]",
      "text/plain": [
       "<Figure size 648x504 with 1 Axes>"
      ]
     },
     "metadata": {
      "needs_background": "light"
     },
     "output_type": "display_data"
    }
   ],
   "source": [
    "fig, ax = plt.subplots(figsize = (9,7))\n",
    "ax.scatter(df[\"Area\"], df[\"Price\"], color = \"red\", marker = \"+\")\n",
    "ax.plot(df.Area, rg.predict(df[[\"Area\"]]))\n",
    "ax.set(title = \"Area vs Prices\",\n",
    "      xlabel = \"Area\",\n",
    "      ylabel = \"Prices\",\n",
    "      facecolor = \"lightyellow\")"
   ]
  },
  {
   "cell_type": "code",
   "execution_count": 7,
   "metadata": {},
   "outputs": [],
   "source": [
    "rg = linear_model.LinearRegression()"
   ]
  },
  {
   "cell_type": "code",
   "execution_count": 8,
   "metadata": {},
   "outputs": [
    {
     "data": {
      "text/plain": [
       "LinearRegression()"
      ]
     },
     "execution_count": 8,
     "metadata": {},
     "output_type": "execute_result"
    }
   ],
   "source": [
    "rg.fit(df[[\"Area\"]], df.Price)"
   ]
  },
  {
   "cell_type": "code",
   "execution_count": 9,
   "metadata": {},
   "outputs": [
    {
     "data": {
      "text/plain": [
       "array([587979.45205479])"
      ]
     },
     "execution_count": 9,
     "metadata": {},
     "output_type": "execute_result"
    }
   ],
   "source": [
    "rg.predict([[3000]])"
   ]
  },
  {
   "cell_type": "code",
   "execution_count": 10,
   "metadata": {},
   "outputs": [
    {
     "data": {
      "text/plain": [
       "array([135.78767123])"
      ]
     },
     "execution_count": 10,
     "metadata": {},
     "output_type": "execute_result"
    }
   ],
   "source": [
    "rg.coef_"
   ]
  },
  {
   "cell_type": "code",
   "execution_count": 11,
   "metadata": {},
   "outputs": [
    {
     "data": {
      "text/plain": [
       "180616.43835616432"
      ]
     },
     "execution_count": 11,
     "metadata": {},
     "output_type": "execute_result"
    }
   ],
   "source": [
    "rg.intercept_"
   ]
  },
  {
   "cell_type": "code",
   "execution_count": null,
   "metadata": {},
   "outputs": [],
   "source": []
  },
  {
   "cell_type": "code",
   "execution_count": 14,
   "metadata": {},
   "outputs": [
    {
     "data": {
      "text/plain": [
       "dtype('int64')"
      ]
     },
     "execution_count": 14,
     "metadata": {},
     "output_type": "execute_result"
    }
   ],
   "source": [
    "df[\"Area\"].dtype"
   ]
  },
  {
   "cell_type": "code",
   "execution_count": 15,
   "metadata": {},
   "outputs": [
    {
     "data": {
      "text/html": [
       "<div>\n",
       "<style scoped>\n",
       "    .dataframe tbody tr th:only-of-type {\n",
       "        vertical-align: middle;\n",
       "    }\n",
       "\n",
       "    .dataframe tbody tr th {\n",
       "        vertical-align: top;\n",
       "    }\n",
       "\n",
       "    .dataframe thead th {\n",
       "        text-align: right;\n",
       "    }\n",
       "</style>\n",
       "<table border=\"1\" class=\"dataframe\">\n",
       "  <thead>\n",
       "    <tr style=\"text-align: right;\">\n",
       "      <th></th>\n",
       "      <th>year</th>\n",
       "      <th>per capita income (US$)</th>\n",
       "    </tr>\n",
       "  </thead>\n",
       "  <tbody>\n",
       "    <tr>\n",
       "      <th>42</th>\n",
       "      <td>2012</td>\n",
       "      <td>42665.25597</td>\n",
       "    </tr>\n",
       "    <tr>\n",
       "      <th>43</th>\n",
       "      <td>2013</td>\n",
       "      <td>42676.46837</td>\n",
       "    </tr>\n",
       "    <tr>\n",
       "      <th>44</th>\n",
       "      <td>2014</td>\n",
       "      <td>41039.89360</td>\n",
       "    </tr>\n",
       "    <tr>\n",
       "      <th>45</th>\n",
       "      <td>2015</td>\n",
       "      <td>35175.18898</td>\n",
       "    </tr>\n",
       "    <tr>\n",
       "      <th>46</th>\n",
       "      <td>2016</td>\n",
       "      <td>34229.19363</td>\n",
       "    </tr>\n",
       "  </tbody>\n",
       "</table>\n",
       "</div>"
      ],
      "text/plain": [
       "    year  per capita income (US$)\n",
       "42  2012              42665.25597\n",
       "43  2013              42676.46837\n",
       "44  2014              41039.89360\n",
       "45  2015              35175.18898\n",
       "46  2016              34229.19363"
      ]
     },
     "execution_count": 15,
     "metadata": {},
     "output_type": "execute_result"
    }
   ],
   "source": [
    "canada = pd.read_csv(\"canada/canada_per_capita_income.csv\")\n",
    "canada.tail()"
   ]
  },
  {
   "cell_type": "code",
   "execution_count": 27,
   "metadata": {},
   "outputs": [
    {
     "data": {
      "text/plain": [
       "[<matplotlib.lines.Line2D at 0x1833e8c4d30>]"
      ]
     },
     "execution_count": 27,
     "metadata": {},
     "output_type": "execute_result"
    },
    {
     "data": {
      "image/png": "[encoded data removed]",
      "text/plain": [
       "<Figure size 648x360 with 1 Axes>"
      ]
     },
     "metadata": {
      "needs_background": "light"
     },
     "output_type": "display_data"
    }
   ],
   "source": [
    "fig, ax = plt.subplots(figsize = (9, 5))\n",
    "ax.scatter(canada[\"year\"], canada[\"per capita income (US$)\"])\n",
    "ax.set(title = \"year vs income\",\n",
    "       xlabel = \"Year\",\n",
    "       ylabel = \"Income\")\n",
    "ax.plot(canada1[\"year\"], lin_reg.predict(canada[[\"per capita income (US$)\"]][:4]))"
   ]
  },
  {
   "cell_type": "code",
   "execution_count": 17,
   "metadata": {},
   "outputs": [
    {
     "data": {
      "text/plain": [
       "LinearRegression()"
      ]
     },
     "execution_count": 17,
     "metadata": {},
     "output_type": "execute_result"
    }
   ],
   "source": [
    "lin_reg = linear_model.LinearRegression()\n",
    "lin_reg.fit(canada[[\"year\"]], canada[\"per capita income (US$)\"])"
   ]
  },
  {
   "cell_type": "code",
   "execution_count": 18,
   "metadata": {},
   "outputs": [
    {
     "data": {
      "text/plain": [
       "array([41288.69409442])"
      ]
     },
     "execution_count": 18,
     "metadata": {},
     "output_type": "execute_result"
    }
   ],
   "source": [
    "lin_reg.predict([[2020]])"
   ]
  },
  {
   "cell_type": "code",
   "execution_count": 19,
   "metadata": {},
   "outputs": [
    {
     "data": {
      "text/html": [
       "<div>\n",
       "<style scoped>\n",
       "    .dataframe tbody tr th:only-of-type {\n",
       "        vertical-align: middle;\n",
       "    }\n",
       "\n",
       "    .dataframe tbody tr th {\n",
       "        vertical-align: top;\n",
       "    }\n",
       "\n",
       "    .dataframe thead th {\n",
       "        text-align: right;\n",
       "    }\n",
       "</style>\n",
       "<table border=\"1\" class=\"dataframe\">\n",
       "  <thead>\n",
       "    <tr style=\"text-align: right;\">\n",
       "      <th></th>\n",
       "      <th>year</th>\n",
       "    </tr>\n",
       "  </thead>\n",
       "  <tbody>\n",
       "    <tr>\n",
       "      <th>0</th>\n",
       "      <td>2017</td>\n",
       "    </tr>\n",
       "    <tr>\n",
       "      <th>1</th>\n",
       "      <td>2018</td>\n",
       "    </tr>\n",
       "    <tr>\n",
       "      <th>2</th>\n",
       "      <td>2019</td>\n",
       "    </tr>\n",
       "    <tr>\n",
       "      <th>3</th>\n",
       "      <td>2020</td>\n",
       "    </tr>\n",
       "  </tbody>\n",
       "</table>\n",
       "</div>"
      ],
      "text/plain": [
       "   year\n",
       "0  2017\n",
       "1  2018\n",
       "2  2019\n",
       "3  2020"
      ]
     },
     "execution_count": 19,
     "metadata": {},
     "output_type": "execute_result"
    }
   ],
   "source": [
    "canada1 = pd.read_csv(\"data1.csv\")\n",
    "canada1"
   ]
  },
  {
   "cell_type": "code",
   "execution_count": 20,
   "metadata": {},
   "outputs": [
    {
     "data": {
      "text/plain": [
       "array([38803.29886875, 39631.76394397, 40460.22901919, 41288.69409442])"
      ]
     },
     "execution_count": 20,
     "metadata": {},
     "output_type": "execute_result"
    }
   ],
   "source": [
    "lin_reg.predict(canada1)"
   ]
  },
  {
   "cell_type": "code",
   "execution_count": 21,
   "metadata": {},
   "outputs": [],
   "source": [
    "# Multi-linear regression\n",
    "house = pd.read_csv(\"canada/homeprices.csv\")"
   ]
  },
  {
   "cell_type": "code",
   "execution_count": 22,
   "metadata": {},
   "outputs": [
    {
     "data": {
      "text/html": [
       "<div>\n",
       "<style scoped>\n",
       "    .dataframe tbody tr th:only-of-type {\n",
       "        vertical-align: middle;\n",
       "    }\n",
       "\n",
       "    .dataframe tbody tr th {\n",
       "        vertical-align: top;\n",
       "    }\n",
       "\n",
       "    .dataframe thead th {\n",
       "        text-align: right;\n",
       "    }\n",
       "</style>\n",
       "<table border=\"1\" class=\"dataframe\">\n",
       "  <thead>\n",
       "    <tr style=\"text-align: right;\">\n",
       "      <th></th>\n",
       "      <th>area</th>\n",
       "      <th>bedrooms</th>\n",
       "      <th>age</th>\n",
       "      <th>price</th>\n",
       "    </tr>\n",
       "  </thead>\n",
       "  <tbody>\n",
       "    <tr>\n",
       "      <th>0</th>\n",
       "      <td>2600</td>\n",
       "      <td>3.0</td>\n",
       "      <td>20</td>\n",
       "      <td>550000</td>\n",
       "    </tr>\n",
       "    <tr>\n",
       "      <th>1</th>\n",
       "      <td>3000</td>\n",
       "      <td>4.0</td>\n",
       "      <td>15</td>\n",
       "      <td>565000</td>\n",
       "    </tr>\n",
       "    <tr>\n",
       "      <th>2</th>\n",
       "      <td>3200</td>\n",
       "      <td>NaN</td>\n",
       "      <td>18</td>\n",
       "      <td>610000</td>\n",
       "    </tr>\n",
       "    <tr>\n",
       "      <th>3</th>\n",
       "      <td>3600</td>\n",
       "      <td>3.0</td>\n",
       "      <td>30</td>\n",
       "      <td>595000</td>\n",
       "    </tr>\n",
       "    <tr>\n",
       "      <th>4</th>\n",
       "      <td>4000</td>\n",
       "      <td>5.0</td>\n",
       "      <td>8</td>\n",
       "      <td>760000</td>\n",
       "    </tr>\n",
       "    <tr>\n",
       "      <th>5</th>\n",
       "      <td>4100</td>\n",
       "      <td>6.0</td>\n",
       "      <td>8</td>\n",
       "      <td>810000</td>\n",
       "    </tr>\n",
       "  </tbody>\n",
       "</table>\n",
       "</div>"
      ],
      "text/plain": [
       "   area  bedrooms  age   price\n",
       "0  2600       3.0   20  550000\n",
       "1  3000       4.0   15  565000\n",
       "2  3200       NaN   18  610000\n",
       "3  3600       3.0   30  595000\n",
       "4  4000       5.0    8  760000\n",
       "5  4100       6.0    8  810000"
      ]
     },
     "execution_count": 22,
     "metadata": {},
     "output_type": "execute_result"
    }
   ],
   "source": [
    "house\n"
   ]
  },
  {
   "cell_type": "code",
   "execution_count": 23,
   "metadata": {},
   "outputs": [
    {
     "data": {
      "text/plain": [
       "1"
      ]
     },
     "execution_count": 23,
     "metadata": {},
     "output_type": "execute_result"
    }
   ],
   "source": [
    "house[\"bedrooms\"].isna().sum()"
   ]
  },
  {
   "cell_type": "code",
   "execution_count": 24,
   "metadata": {},
   "outputs": [],
   "source": [
    "def fill_miss(column):\n",
    "    for i, j in column.items():\n",
    "        if j == \"Nan\":\n",
    "            miss = i.fillna(i.mean(), inplace = True)\n",
    "    column.fillna(3)"
   ]
  },
  {
   "cell_type": "code",
   "execution_count": 25,
   "metadata": {},
   "outputs": [],
   "source": [
    "fill_miss(house[\"bedrooms\"])"
   ]
  },
  {
   "cell_type": "code",
   "execution_count": 28,
   "metadata": {},
   "outputs": [
    {
     "data": {
      "text/html": [
       "<div>\n",
       "<style scoped>\n",
       "    .dataframe tbody tr th:only-of-type {\n",
       "        vertical-align: middle;\n",
       "    }\n",
       "\n",
       "    .dataframe tbody tr th {\n",
       "        vertical-align: top;\n",
       "    }\n",
       "\n",
       "    .dataframe thead th {\n",
       "        text-align: right;\n",
       "    }\n",
       "</style>\n",
       "<table border=\"1\" class=\"dataframe\">\n",
       "  <thead>\n",
       "    <tr style=\"text-align: right;\">\n",
       "      <th></th>\n",
       "      <th>area</th>\n",
       "      <th>bedrooms</th>\n",
       "      <th>age</th>\n",
       "      <th>price</th>\n",
       "    </tr>\n",
       "  </thead>\n",
       "  <tbody>\n",
       "    <tr>\n",
       "      <th>0</th>\n",
       "      <td>2600</td>\n",
       "      <td>3.0</td>\n",
       "      <td>20</td>\n",
       "      <td>550000</td>\n",
       "    </tr>\n",
       "    <tr>\n",
       "      <th>1</th>\n",
       "      <td>3000</td>\n",
       "      <td>4.0</td>\n",
       "      <td>15</td>\n",
       "      <td>565000</td>\n",
       "    </tr>\n",
       "    <tr>\n",
       "      <th>2</th>\n",
       "      <td>3200</td>\n",
       "      <td>NaN</td>\n",
       "      <td>18</td>\n",
       "      <td>610000</td>\n",
       "    </tr>\n",
       "    <tr>\n",
       "      <th>3</th>\n",
       "      <td>3600</td>\n",
       "      <td>3.0</td>\n",
       "      <td>30</td>\n",
       "      <td>595000</td>\n",
       "    </tr>\n",
       "    <tr>\n",
       "      <th>4</th>\n",
       "      <td>4000</td>\n",
       "      <td>5.0</td>\n",
       "      <td>8</td>\n",
       "      <td>760000</td>\n",
       "    </tr>\n",
       "    <tr>\n",
       "      <th>5</th>\n",
       "      <td>4100</td>\n",
       "      <td>6.0</td>\n",
       "      <td>8</td>\n",
       "      <td>810000</td>\n",
       "    </tr>\n",
       "  </tbody>\n",
       "</table>\n",
       "</div>"
      ],
      "text/plain": [
       "   area  bedrooms  age   price\n",
       "0  2600       3.0   20  550000\n",
       "1  3000       4.0   15  565000\n",
       "2  3200       NaN   18  610000\n",
       "3  3600       3.0   30  595000\n",
       "4  4000       5.0    8  760000\n",
       "5  4100       6.0    8  810000"
      ]
     },
     "execution_count": 28,
     "metadata": {},
     "output_type": "execute_result"
    }
   ],
   "source": [
    "house"
   ]
  },
  {
   "cell_type": "code",
   "execution_count": 29,
   "metadata": {},
   "outputs": [
    {
     "data": {
      "text/plain": [
       "area        0\n",
       "bedrooms    1\n",
       "age         0\n",
       "price       0\n",
       "dtype: int64"
      ]
     },
     "execution_count": 29,
     "metadata": {},
     "output_type": "execute_result"
    }
   ],
   "source": [
    "house.isna().sum()"
   ]
  },
  {
   "cell_type": "code",
   "execution_count": 30,
   "metadata": {},
   "outputs": [],
   "source": [
    "import math\n",
    "# Lets fill the missing values\n",
    "house[\"bedrooms\"].fillna(math.floor(house[\"bedrooms\"].mean()), inplace = True)"
   ]
  },
  {
   "cell_type": "code",
   "execution_count": 31,
   "metadata": {},
   "outputs": [
    {
     "data": {
      "text/html": [
       "<div>\n",
       "<style scoped>\n",
       "    .dataframe tbody tr th:only-of-type {\n",
       "        vertical-align: middle;\n",
       "    }\n",
       "\n",
       "    .dataframe tbody tr th {\n",
       "        vertical-align: top;\n",
       "    }\n",
       "\n",
       "    .dataframe thead th {\n",
       "        text-align: right;\n",
       "    }\n",
       "</style>\n",
       "<table border=\"1\" class=\"dataframe\">\n",
       "  <thead>\n",
       "    <tr style=\"text-align: right;\">\n",
       "      <th></th>\n",
       "      <th>area</th>\n",
       "      <th>bedrooms</th>\n",
       "      <th>age</th>\n",
       "      <th>price</th>\n",
       "    </tr>\n",
       "  </thead>\n",
       "  <tbody>\n",
       "    <tr>\n",
       "      <th>0</th>\n",
       "      <td>2600</td>\n",
       "      <td>3.0</td>\n",
       "      <td>20</td>\n",
       "      <td>550000</td>\n",
       "    </tr>\n",
       "    <tr>\n",
       "      <th>1</th>\n",
       "      <td>3000</td>\n",
       "      <td>4.0</td>\n",
       "      <td>15</td>\n",
       "      <td>565000</td>\n",
       "    </tr>\n",
       "    <tr>\n",
       "      <th>2</th>\n",
       "      <td>3200</td>\n",
       "      <td>4.0</td>\n",
       "      <td>18</td>\n",
       "      <td>610000</td>\n",
       "    </tr>\n",
       "    <tr>\n",
       "      <th>3</th>\n",
       "      <td>3600</td>\n",
       "      <td>3.0</td>\n",
       "      <td>30</td>\n",
       "      <td>595000</td>\n",
       "    </tr>\n",
       "    <tr>\n",
       "      <th>4</th>\n",
       "      <td>4000</td>\n",
       "      <td>5.0</td>\n",
       "      <td>8</td>\n",
       "      <td>760000</td>\n",
       "    </tr>\n",
       "    <tr>\n",
       "      <th>5</th>\n",
       "      <td>4100</td>\n",
       "      <td>6.0</td>\n",
       "      <td>8</td>\n",
       "      <td>810000</td>\n",
       "    </tr>\n",
       "  </tbody>\n",
       "</table>\n",
       "</div>"
      ],
      "text/plain": [
       "   area  bedrooms  age   price\n",
       "0  2600       3.0   20  550000\n",
       "1  3000       4.0   15  565000\n",
       "2  3200       4.0   18  610000\n",
       "3  3600       3.0   30  595000\n",
       "4  4000       5.0    8  760000\n",
       "5  4100       6.0    8  810000"
      ]
     },
     "execution_count": 31,
     "metadata": {},
     "output_type": "execute_result"
    }
   ],
   "source": [
    "house"
   ]
  },
  {
   "cell_type": "code",
   "execution_count": 32,
   "metadata": {},
   "outputs": [
    {
     "data": {
      "text/plain": [
       "LinearRegression()"
      ]
     },
     "execution_count": 32,
     "metadata": {},
     "output_type": "execute_result"
    }
   ],
   "source": [
    "# Now we dont have anymore missing values, lets build multilinear regression model\n",
    "multi_lin_reg = linear_model.LinearRegression()\n",
    "multi_lin_reg.fit(house[[\"area\", \"bedrooms\", \"age\"]], house[\"price\"])"
   ]
  },
  {
   "cell_type": "markdown",
   "metadata": {},
   "source": [
    "# Before to predict lets see the equation\n",
    "**y = m1x1+ m2x2+ m3x3 + b**                                                                                         \n",
    "`Where`                                                                                         \n",
    "    `y` = Dependent Variable                                                                                         \n",
    "    `m1,m2,m3`  = Cofficients                                                                                        \n",
    "    `x1,x2,x3` = Features(independent Variables)                                                                                         \n",
    "    `b` = intercept                                                                                        "
   ]
  },
  {
   "cell_type": "code",
   "execution_count": 33,
   "metadata": {},
   "outputs": [
    {
     "data": {
      "text/plain": [
       "array([  112.06244194, 23388.88007794, -3231.71790863])"
      ]
     },
     "execution_count": 33,
     "metadata": {},
     "output_type": "execute_result"
    }
   ],
   "source": [
    "multi_lin_reg.coef_"
   ]
  },
  {
   "cell_type": "code",
   "execution_count": 34,
   "metadata": {},
   "outputs": [
    {
     "data": {
      "text/plain": [
       "221323.0018654043"
      ]
     },
     "execution_count": 34,
     "metadata": {},
     "output_type": "execute_result"
    }
   ],
   "source": [
    "multi_lin_reg.intercept_"
   ]
  },
  {
   "cell_type": "markdown",
   "metadata": {},
   "source": [
    "# Lets predict the price of House with following Features\n",
    "--> Area = 2000 sq ft                                                         \n",
    "--> Bedrooms = 3                                                        \n",
    "--> House_Age = 5                                                        "
   ]
  },
  {
   "cell_type": "code",
   "execution_count": 35,
   "metadata": {},
   "outputs": [
    {
     "data": {
      "text/plain": [
       "array([499455.93644033])"
      ]
     },
     "execution_count": 35,
     "metadata": {},
     "output_type": "execute_result"
    }
   ],
   "source": [
    "multi_lin_reg.predict([[2000, 3, 5]])"
   ]
  },
  {
   "cell_type": "markdown",
   "metadata": {},
   "source": [
    "# New DataSet"
   ]
  },
  {
   "cell_type": "code",
   "execution_count": 36,
   "metadata": {},
   "outputs": [
    {
     "data": {
      "text/html": [
       "<div>\n",
       "<style scoped>\n",
       "    .dataframe tbody tr th:only-of-type {\n",
       "        vertical-align: middle;\n",
       "    }\n",
       "\n",
       "    .dataframe tbody tr th {\n",
       "        vertical-align: top;\n",
       "    }\n",
       "\n",
       "    .dataframe thead th {\n",
       "        text-align: right;\n",
       "    }\n",
       "</style>\n",
       "<table border=\"1\" class=\"dataframe\">\n",
       "  <thead>\n",
       "    <tr style=\"text-align: right;\">\n",
       "      <th></th>\n",
       "      <th>experience</th>\n",
       "      <th>test_score(out of 10)</th>\n",
       "      <th>interview_score(out of 10)</th>\n",
       "      <th>salary($)</th>\n",
       "    </tr>\n",
       "  </thead>\n",
       "  <tbody>\n",
       "    <tr>\n",
       "      <th>0</th>\n",
       "      <td>NaN</td>\n",
       "      <td>8.0</td>\n",
       "      <td>9</td>\n",
       "      <td>50000</td>\n",
       "    </tr>\n",
       "    <tr>\n",
       "      <th>1</th>\n",
       "      <td>NaN</td>\n",
       "      <td>8.0</td>\n",
       "      <td>6</td>\n",
       "      <td>45000</td>\n",
       "    </tr>\n",
       "    <tr>\n",
       "      <th>2</th>\n",
       "      <td>five</td>\n",
       "      <td>6.0</td>\n",
       "      <td>7</td>\n",
       "      <td>60000</td>\n",
       "    </tr>\n",
       "    <tr>\n",
       "      <th>3</th>\n",
       "      <td>two</td>\n",
       "      <td>10.0</td>\n",
       "      <td>10</td>\n",
       "      <td>65000</td>\n",
       "    </tr>\n",
       "    <tr>\n",
       "      <th>4</th>\n",
       "      <td>seven</td>\n",
       "      <td>9.0</td>\n",
       "      <td>6</td>\n",
       "      <td>70000</td>\n",
       "    </tr>\n",
       "    <tr>\n",
       "      <th>5</th>\n",
       "      <td>three</td>\n",
       "      <td>7.0</td>\n",
       "      <td>10</td>\n",
       "      <td>62000</td>\n",
       "    </tr>\n",
       "    <tr>\n",
       "      <th>6</th>\n",
       "      <td>ten</td>\n",
       "      <td>NaN</td>\n",
       "      <td>7</td>\n",
       "      <td>72000</td>\n",
       "    </tr>\n",
       "    <tr>\n",
       "      <th>7</th>\n",
       "      <td>eleven</td>\n",
       "      <td>7.0</td>\n",
       "      <td>8</td>\n",
       "      <td>80000</td>\n",
       "    </tr>\n",
       "  </tbody>\n",
       "</table>\n",
       "</div>"
      ],
      "text/plain": [
       "  experience  test_score(out of 10)  interview_score(out of 10)  salary($)\n",
       "0        NaN                    8.0                           9      50000\n",
       "1        NaN                    8.0                           6      45000\n",
       "2       five                    6.0                           7      60000\n",
       "3        two                   10.0                          10      65000\n",
       "4      seven                    9.0                           6      70000\n",
       "5      three                    7.0                          10      62000\n",
       "6        ten                    NaN                           7      72000\n",
       "7     eleven                    7.0                           8      80000"
      ]
     },
     "execution_count": 36,
     "metadata": {},
     "output_type": "execute_result"
    }
   ],
   "source": [
    "hiring = pd.read_csv(\"canada/hiring.csv\")\n",
    "hiring"
   ]
  },
  {
   "cell_type": "code",
   "execution_count": 37,
   "metadata": {},
   "outputs": [
    {
     "data": {
      "text/plain": [
       "experience                    2\n",
       "test_score(out of 10)         1\n",
       "interview_score(out of 10)    0\n",
       "salary($)                     0\n",
       "dtype: int64"
      ]
     },
     "execution_count": 37,
     "metadata": {},
     "output_type": "execute_result"
    }
   ],
   "source": [
    "hiring.isna().sum()"
   ]
  },
  {
   "cell_type": "code",
   "execution_count": 38,
   "metadata": {},
   "outputs": [],
   "source": [
    "# Lets fill the missing values First\n",
    "hiring[\"experience\"].fillna(\"zero\", inplace = True)\n",
    "hiring[\"test_score(out of 10)\"].fillna(math.floor(hiring[\"test_score(out of 10)\"].mean()), inplace = True)"
   ]
  },
  {
   "cell_type": "code",
   "execution_count": 39,
   "metadata": {},
   "outputs": [
    {
     "data": {
      "text/html": [
       "<div>\n",
       "<style scoped>\n",
       "    .dataframe tbody tr th:only-of-type {\n",
       "        vertical-align: middle;\n",
       "    }\n",
       "\n",
       "    .dataframe tbody tr th {\n",
       "        vertical-align: top;\n",
       "    }\n",
       "\n",
       "    .dataframe thead th {\n",
       "        text-align: right;\n",
       "    }\n",
       "</style>\n",
       "<table border=\"1\" class=\"dataframe\">\n",
       "  <thead>\n",
       "    <tr style=\"text-align: right;\">\n",
       "      <th></th>\n",
       "      <th>experience</th>\n",
       "      <th>test_score(out of 10)</th>\n",
       "      <th>interview_score(out of 10)</th>\n",
       "      <th>salary($)</th>\n",
       "    </tr>\n",
       "  </thead>\n",
       "  <tbody>\n",
       "    <tr>\n",
       "      <th>0</th>\n",
       "      <td>zero</td>\n",
       "      <td>8.0</td>\n",
       "      <td>9</td>\n",
       "      <td>50000</td>\n",
       "    </tr>\n",
       "    <tr>\n",
       "      <th>1</th>\n",
       "      <td>zero</td>\n",
       "      <td>8.0</td>\n",
       "      <td>6</td>\n",
       "      <td>45000</td>\n",
       "    </tr>\n",
       "    <tr>\n",
       "      <th>2</th>\n",
       "      <td>five</td>\n",
       "      <td>6.0</td>\n",
       "      <td>7</td>\n",
       "      <td>60000</td>\n",
       "    </tr>\n",
       "    <tr>\n",
       "      <th>3</th>\n",
       "      <td>two</td>\n",
       "      <td>10.0</td>\n",
       "      <td>10</td>\n",
       "      <td>65000</td>\n",
       "    </tr>\n",
       "    <tr>\n",
       "      <th>4</th>\n",
       "      <td>seven</td>\n",
       "      <td>9.0</td>\n",
       "      <td>6</td>\n",
       "      <td>70000</td>\n",
       "    </tr>\n",
       "    <tr>\n",
       "      <th>5</th>\n",
       "      <td>three</td>\n",
       "      <td>7.0</td>\n",
       "      <td>10</td>\n",
       "      <td>62000</td>\n",
       "    </tr>\n",
       "    <tr>\n",
       "      <th>6</th>\n",
       "      <td>ten</td>\n",
       "      <td>7.0</td>\n",
       "      <td>7</td>\n",
       "      <td>72000</td>\n",
       "    </tr>\n",
       "    <tr>\n",
       "      <th>7</th>\n",
       "      <td>eleven</td>\n",
       "      <td>7.0</td>\n",
       "      <td>8</td>\n",
       "      <td>80000</td>\n",
       "    </tr>\n",
       "  </tbody>\n",
       "</table>\n",
       "</div>"
      ],
      "text/plain": [
       "  experience  test_score(out of 10)  interview_score(out of 10)  salary($)\n",
       "0       zero                    8.0                           9      50000\n",
       "1       zero                    8.0                           6      45000\n",
       "2       five                    6.0                           7      60000\n",
       "3        two                   10.0                          10      65000\n",
       "4      seven                    9.0                           6      70000\n",
       "5      three                    7.0                          10      62000\n",
       "6        ten                    7.0                           7      72000\n",
       "7     eleven                    7.0                           8      80000"
      ]
     },
     "execution_count": 39,
     "metadata": {},
     "output_type": "execute_result"
    }
   ],
   "source": [
    "hiring"
   ]
  },
  {
   "cell_type": "code",
   "execution_count": 51,
   "metadata": {},
   "outputs": [],
   "source": [
    "# Lets Convert Strings into numerical vales\n",
    "for label, content in hiring.items():\n",
    "    if not pd.api.types.is_numeric_dtype(content):\n",
    "        hiring[label] = pd.Categorical(content).codes"
   ]
  },
  {
   "cell_type": "code",
   "execution_count": 52,
   "metadata": {},
   "outputs": [
    {
     "data": {
      "text/html": [
       "<div>\n",
       "<style scoped>\n",
       "    .dataframe tbody tr th:only-of-type {\n",
       "        vertical-align: middle;\n",
       "    }\n",
       "\n",
       "    .dataframe tbody tr th {\n",
       "        vertical-align: top;\n",
       "    }\n",
       "\n",
       "    .dataframe thead th {\n",
       "        text-align: right;\n",
       "    }\n",
       "</style>\n",
       "<table border=\"1\" class=\"dataframe\">\n",
       "  <thead>\n",
       "    <tr style=\"text-align: right;\">\n",
       "      <th></th>\n",
       "      <th>experience</th>\n",
       "      <th>test_score(out of 10)</th>\n",
       "      <th>interview_score(out of 10)</th>\n",
       "      <th>salary($)</th>\n",
       "    </tr>\n",
       "  </thead>\n",
       "  <tbody>\n",
       "    <tr>\n",
       "      <th>0</th>\n",
       "      <td>6</td>\n",
       "      <td>8.0</td>\n",
       "      <td>9</td>\n",
       "      <td>50000</td>\n",
       "    </tr>\n",
       "    <tr>\n",
       "      <th>1</th>\n",
       "      <td>6</td>\n",
       "      <td>8.0</td>\n",
       "      <td>6</td>\n",
       "      <td>45000</td>\n",
       "    </tr>\n",
       "    <tr>\n",
       "      <th>2</th>\n",
       "      <td>1</td>\n",
       "      <td>6.0</td>\n",
       "      <td>7</td>\n",
       "      <td>60000</td>\n",
       "    </tr>\n",
       "    <tr>\n",
       "      <th>3</th>\n",
       "      <td>5</td>\n",
       "      <td>10.0</td>\n",
       "      <td>10</td>\n",
       "      <td>65000</td>\n",
       "    </tr>\n",
       "    <tr>\n",
       "      <th>4</th>\n",
       "      <td>2</td>\n",
       "      <td>9.0</td>\n",
       "      <td>6</td>\n",
       "      <td>70000</td>\n",
       "    </tr>\n",
       "    <tr>\n",
       "      <th>5</th>\n",
       "      <td>4</td>\n",
       "      <td>7.0</td>\n",
       "      <td>10</td>\n",
       "      <td>62000</td>\n",
       "    </tr>\n",
       "    <tr>\n",
       "      <th>6</th>\n",
       "      <td>3</td>\n",
       "      <td>7.0</td>\n",
       "      <td>7</td>\n",
       "      <td>72000</td>\n",
       "    </tr>\n",
       "    <tr>\n",
       "      <th>7</th>\n",
       "      <td>0</td>\n",
       "      <td>7.0</td>\n",
       "      <td>8</td>\n",
       "      <td>80000</td>\n",
       "    </tr>\n",
       "  </tbody>\n",
       "</table>\n",
       "</div>"
      ],
      "text/plain": [
       "   experience  test_score(out of 10)  interview_score(out of 10)  salary($)\n",
       "0           6                    8.0                           9      50000\n",
       "1           6                    8.0                           6      45000\n",
       "2           1                    6.0                           7      60000\n",
       "3           5                   10.0                          10      65000\n",
       "4           2                    9.0                           6      70000\n",
       "5           4                    7.0                          10      62000\n",
       "6           3                    7.0                           7      72000\n",
       "7           0                    7.0                           8      80000"
      ]
     },
     "execution_count": 52,
     "metadata": {},
     "output_type": "execute_result"
    }
   ],
   "source": [
    "hiring"
   ]
  },
  {
   "cell_type": "code",
   "execution_count": 41,
   "metadata": {},
   "outputs": [
    {
     "data": {
      "text/html": [
       "<div>\n",
       "<style scoped>\n",
       "    .dataframe tbody tr th:only-of-type {\n",
       "        vertical-align: middle;\n",
       "    }\n",
       "\n",
       "    .dataframe tbody tr th {\n",
       "        vertical-align: top;\n",
       "    }\n",
       "\n",
       "    .dataframe thead th {\n",
       "        text-align: right;\n",
       "    }\n",
       "</style>\n",
       "<table border=\"1\" class=\"dataframe\">\n",
       "  <thead>\n",
       "    <tr style=\"text-align: right;\">\n",
       "      <th></th>\n",
       "      <th>0</th>\n",
       "      <th>1</th>\n",
       "      <th>2</th>\n",
       "      <th>3</th>\n",
       "      <th>4</th>\n",
       "    </tr>\n",
       "  </thead>\n",
       "  <tbody>\n",
       "    <tr>\n",
       "      <th>CUSTOM.updateTime</th>\n",
       "      <td>10:57.5</td>\n",
       "      <td>10:57.5</td>\n",
       "      <td>10:57.6</td>\n",
       "      <td>10:57.7</td>\n",
       "      <td>10:57.8</td>\n",
       "    </tr>\n",
       "    <tr>\n",
       "      <th>CUSTOM.isPhoto</th>\n",
       "      <td>NaN</td>\n",
       "      <td>NaN</td>\n",
       "      <td>NaN</td>\n",
       "      <td>NaN</td>\n",
       "      <td>NaN</td>\n",
       "    </tr>\n",
       "    <tr>\n",
       "      <th>CUSTOM.isVideo</th>\n",
       "      <td>NaN</td>\n",
       "      <td>NaN</td>\n",
       "      <td>NaN</td>\n",
       "      <td>NaN</td>\n",
       "      <td>NaN</td>\n",
       "    </tr>\n",
       "    <tr>\n",
       "      <th>CUSTOM.hSpeed [m/s]</th>\n",
       "      <td>2.42</td>\n",
       "      <td>2.42</td>\n",
       "      <td>2.33</td>\n",
       "      <td>2.33</td>\n",
       "      <td>2.33</td>\n",
       "    </tr>\n",
       "    <tr>\n",
       "      <th>CUSTOM.distance [m]</th>\n",
       "      <td>0</td>\n",
       "      <td>0</td>\n",
       "      <td>0.45</td>\n",
       "      <td>0.7</td>\n",
       "      <td>0.93</td>\n",
       "    </tr>\n",
       "    <tr>\n",
       "      <th>...</th>\n",
       "      <td>...</td>\n",
       "      <td>...</td>\n",
       "      <td>...</td>\n",
       "      <td>...</td>\n",
       "      <td>...</td>\n",
       "    </tr>\n",
       "    <tr>\n",
       "      <th>HOME.motor6EscmState</th>\n",
       "      <td>NaN</td>\n",
       "      <td>NaN</td>\n",
       "      <td>NaN</td>\n",
       "      <td>NaN</td>\n",
       "      <td>NaN</td>\n",
       "    </tr>\n",
       "    <tr>\n",
       "      <th>HOME.motor7EscmState</th>\n",
       "      <td>NaN</td>\n",
       "      <td>NaN</td>\n",
       "      <td>NaN</td>\n",
       "      <td>NaN</td>\n",
       "      <td>NaN</td>\n",
       "    </tr>\n",
       "    <tr>\n",
       "      <th>HOME.motor8EscmState</th>\n",
       "      <td>NaN</td>\n",
       "      <td>NaN</td>\n",
       "      <td>NaN</td>\n",
       "      <td>NaN</td>\n",
       "      <td>NaN</td>\n",
       "    </tr>\n",
       "    <tr>\n",
       "      <th>HOME.forceLandingHeight [m]</th>\n",
       "      <td>NaN</td>\n",
       "      <td>NaN</td>\n",
       "      <td>NaN</td>\n",
       "      <td>NaN</td>\n",
       "      <td>NaN</td>\n",
       "    </tr>\n",
       "    <tr>\n",
       "      <th>RECOVER.droneType</th>\n",
       "      <td>NaN</td>\n",
       "      <td>NaN</td>\n",
       "      <td>NaN</td>\n",
       "      <td>NaN</td>\n",
       "      <td>NaN</td>\n",
       "    </tr>\n",
       "  </tbody>\n",
       "</table>\n",
       "<p>230 rows × 5 columns</p>\n",
       "</div>"
      ],
      "text/plain": [
       "                                   0        1        2        3        4\n",
       "CUSTOM.updateTime            10:57.5  10:57.5  10:57.6  10:57.7  10:57.8\n",
       "CUSTOM.isPhoto                   NaN      NaN      NaN      NaN      NaN\n",
       "CUSTOM.isVideo                   NaN      NaN      NaN      NaN      NaN\n",
       "CUSTOM.hSpeed [m/s]             2.42     2.42     2.33     2.33     2.33\n",
       "CUSTOM.distance [m]                0        0     0.45      0.7     0.93\n",
       "...                              ...      ...      ...      ...      ...\n",
       "HOME.motor6EscmState             NaN      NaN      NaN      NaN      NaN\n",
       "HOME.motor7EscmState             NaN      NaN      NaN      NaN      NaN\n",
       "HOME.motor8EscmState             NaN      NaN      NaN      NaN      NaN\n",
       "HOME.forceLandingHeight [m]      NaN      NaN      NaN      NaN      NaN\n",
       "RECOVER.droneType                NaN      NaN      NaN      NaN      NaN\n",
       "\n",
       "[230 rows x 5 columns]"
      ]
     },
     "execution_count": 41,
     "metadata": {},
     "output_type": "execute_result"
    }
   ],
   "source": [
    "dg = pd.read_csv(\"DJI Sample Flight Log (1) (1).csv\")\n",
    "dg.T.head(230)"
   ]
  },
  {
   "cell_type": "markdown",
   "metadata": {},
   "source": [
    "# Gradiant Descent"
   ]
  },
  {
   "cell_type": "code",
   "execution_count": 42,
   "metadata": {},
   "outputs": [
    {
     "data": {
      "text/html": [
       "<div>\n",
       "<style scoped>\n",
       "    .dataframe tbody tr th:only-of-type {\n",
       "        vertical-align: middle;\n",
       "    }\n",
       "\n",
       "    .dataframe tbody tr th {\n",
       "        vertical-align: top;\n",
       "    }\n",
       "\n",
       "    .dataframe thead th {\n",
       "        text-align: right;\n",
       "    }\n",
       "</style>\n",
       "<table border=\"1\" class=\"dataframe\">\n",
       "  <thead>\n",
       "    <tr style=\"text-align: right;\">\n",
       "      <th></th>\n",
       "      <th>name</th>\n",
       "      <th>math</th>\n",
       "      <th>cs</th>\n",
       "    </tr>\n",
       "  </thead>\n",
       "  <tbody>\n",
       "    <tr>\n",
       "      <th>0</th>\n",
       "      <td>david</td>\n",
       "      <td>92</td>\n",
       "      <td>98</td>\n",
       "    </tr>\n",
       "    <tr>\n",
       "      <th>1</th>\n",
       "      <td>laura</td>\n",
       "      <td>56</td>\n",
       "      <td>68</td>\n",
       "    </tr>\n",
       "    <tr>\n",
       "      <th>2</th>\n",
       "      <td>sanjay</td>\n",
       "      <td>88</td>\n",
       "      <td>81</td>\n",
       "    </tr>\n",
       "    <tr>\n",
       "      <th>3</th>\n",
       "      <td>wei</td>\n",
       "      <td>70</td>\n",
       "      <td>80</td>\n",
       "    </tr>\n",
       "    <tr>\n",
       "      <th>4</th>\n",
       "      <td>jeff</td>\n",
       "      <td>80</td>\n",
       "      <td>83</td>\n",
       "    </tr>\n",
       "    <tr>\n",
       "      <th>5</th>\n",
       "      <td>aamir</td>\n",
       "      <td>49</td>\n",
       "      <td>52</td>\n",
       "    </tr>\n",
       "    <tr>\n",
       "      <th>6</th>\n",
       "      <td>venkat</td>\n",
       "      <td>65</td>\n",
       "      <td>66</td>\n",
       "    </tr>\n",
       "    <tr>\n",
       "      <th>7</th>\n",
       "      <td>virat</td>\n",
       "      <td>35</td>\n",
       "      <td>30</td>\n",
       "    </tr>\n",
       "    <tr>\n",
       "      <th>8</th>\n",
       "      <td>arthur</td>\n",
       "      <td>66</td>\n",
       "      <td>68</td>\n",
       "    </tr>\n",
       "    <tr>\n",
       "      <th>9</th>\n",
       "      <td>paul</td>\n",
       "      <td>67</td>\n",
       "      <td>73</td>\n",
       "    </tr>\n",
       "  </tbody>\n",
       "</table>\n",
       "</div>"
      ],
      "text/plain": [
       "     name  math  cs\n",
       "0   david    92  98\n",
       "1   laura    56  68\n",
       "2  sanjay    88  81\n",
       "3     wei    70  80\n",
       "4    jeff    80  83\n",
       "5   aamir    49  52\n",
       "6  venkat    65  66\n",
       "7   virat    35  30\n",
       "8  arthur    66  68\n",
       "9    paul    67  73"
      ]
     },
     "execution_count": 42,
     "metadata": {},
     "output_type": "execute_result"
    }
   ],
   "source": [
    "test_score = pd.read_csv(\"canada/test_scores.csv\")\n",
    "test_score"
   ]
  },
  {
   "cell_type": "code",
   "execution_count": 43,
   "metadata": {},
   "outputs": [
    {
     "name": "stdout",
     "output_type": "stream",
     "text": [
      "m = 9.891800000000002, b = 0.1398, cost = 5199.1, iteration = 0, math = False\n",
      "m = -73.89063968000005, b = -1.0422240800000002, cost = 370727.6662565042, iteration = 1, math = False\n",
      "m = 635.7369779473285, b = 8.971449829408007, cost = 26593365.21283422, iteration = 2, math = False\n",
      "m = -5374.727514955187, b = -75.84115332401389, cost = 1907777992.8722565, iteration = 3, math = False\n",
      "m = 45533.21677472461, b = 642.5139249806472, cost = 136861998255.80414, iteration = 4, math = False\n",
      "m = -385651.2277087454, b = -5441.869063972523, cost = 9818336798225.717, iteration = 5, math = False\n",
      "m = 3266431.5217446033, b = 46092.15849604381, cost = 704357226503460.2, iteration = 6, math = False\n",
      "m = -27666290.14670837, b = -390395.13732602727, cost = 5.052985171774353e+16, iteration = 7, math = False\n",
      "m = 234330311.64447328, b = 3306602.156348863, cost = 3.6249587830483005e+18, iteration = 8, math = False\n",
      "m = -1984750831.161688, b = -28006540.543865472, cost = 2.6005075677245276e+20, iteration = 9, math = False\n",
      "m = 16810611721.985636, b = 237212183.72022378, cost = 1.8655769663967592e+22, iteration = 10, math = False\n",
      "m = -142383951599.6276, b = -2009159966.5646977, cost = 1.3383454294637962e+24, iteration = 11, math = False\n",
      "m = 1205975725927.0713, b = 17017354287.21848, cost = 9.601150318800083e+25, iteration = 12, math = False\n",
      "m = -10214475965673.32, b = -144135037405.07288, cost = 6.88776495326228e+27, iteration = 13, math = False\n",
      "m = 86515438918328.9, b = 1220807221683.833, cost = 4.941210633739686e+29, iteration = 14, math = False\n",
      "m = -732775836605216.4, b = -10340097032248.14, cost = 3.5447728969639302e+31, iteration = 15, math = False\n",
      "m = 6206527221336492.0, b = 87579434932273.39, cost = 2.5429830506011214e+33, iteration = 16, math = False\n",
      "m = -5.256857312278437e+16, b = -741787760708146.4, cost = 1.824309478664577e+35, iteration = 17, math = False\n",
      "m = 4.4524978004856864e+17, b = 6282857184017264.0, cost = 1.308740564809784e+37, iteration = 18, math = False\n",
      "m = -3.771214527171064e+18, b = -5.3215079144839544e+16, cost = 9.3887681120444e+38, iteration = 19, math = False\n",
      "m = 3.194175415065832e+19, b = 4.507256118435043e+17, cost = 6.73540417649953e+40, iteration = 20, math = False\n",
      "m = -2.70542991089517e+20, b = -3.817594193908135e+18, cost = 4.8319086039210916e+42, iteration = 21, math = False\n",
      "m = 2.2914680791303368e+21, b = 3.2334584604039156e+19, cost = 3.466360762448049e+44, iteration = 22, math = False\n",
      "m = -1.9408471594578794e+22, b = -2.73870219936982e+20, cost = 2.486731004325852e+46, iteration = 23, math = False\n",
      "m = 1.6438752652427682e+23, b = 2.319649325538619e+21, cost = 1.7839548482276986e+48, iteration = 24, math = False\n",
      "m = -1.3923434797574683e+24, b = -1.9647163516755844e+22, cost = 1.2797905744444916e+50, iteration = 25, math = False\n",
      "m = 1.179298944763208e+25, b = 1.6640921970587552e+23, cost = 9.181083905033403e+51, iteration = 26, math = False\n",
      "m = -9.98852669143012e+25, b = -1.4094669889371823e+24, cost = 6.58641369568231e+53, iteration = 27, math = False\n",
      "m = 8.460167450200246e+26, b = 1.1938023604791333e+25, cost = 4.725024389210582e+55, iteration = 28, math = False\n",
      "m = -7.165664716783168e+27, b = -1.0111368957709355e+26, cost = 3.38968314323627e+57, iteration = 29, math = False\n",
      "m = 6.069235761064736e+28, b = 8.564213439642921e+26, cost = 2.4317232812124712e+59, iteration = 30, math = False\n",
      "m = -5.140573021385156e+29, b = -7.253790475506124e+27, cost = 1.744492882230017e+61, iteration = 31, math = False\n",
      "m = 4.354006340916478e+30, b = 6.143877267115057e+28, cost = 1.2514809722238673e+63, iteration = 32, math = False\n",
      "m = -3.6877933914909612e+31, b = -5.203793520206333e+29, cost = 8.977993775682753e+64, iteration = 33, math = False\n",
      "m = 3.1235186707288454e+32, b = 4.4075533777153323e+30, cost = 6.440718958192806e+66, iteration = 34, math = False\n",
      "m = -2.645584459504449e+33, b = -3.733147116997748e+31, cost = 4.620504506338839e+68, iteration = 35, math = False\n",
      "m = 2.2407796687631987e+34, b = 3.161932755621568e+32, cost = 3.31470167098982e+70, iteration = 36, math = False\n",
      "m = -1.897914657724828e+35, b = -2.6781207484566015e+33, cost = 2.3779323562155134e+72, iteration = 37, math = False\n",
      "m = 1.6075119290933782e+36, b = 2.268337532024402e+34, cost = 1.7059038344914237e+74, iteration = 38, math = False\n",
      "m = -1.3615441514505511e+37, b = -1.9212558515727185e+35, cost = 1.2237975924445502e+76, iteration = 39, math = False\n",
      "m = 1.153212267230097e+38, b = 1.627281652350979e+36, cost = 8.779396100716171e+77, iteration = 40, math = False\n",
      "m = -9.767575527192004e+38, b = -1.378288880114782e+37, cost = 6.298247060554071e+79, iteration = 41, math = False\n",
      "m = 8.273024350370022e+39, b = 1.1673948601973964e+38, cost = 4.518296655112998e+81, iteration = 42, math = False\n",
      "m = -7.00715665942656e+40, b = -9.88770046161735e+38, cost = 3.2413788260966296e+83, iteration = 43, math = False\n",
      "m = 5.934981255984084e+41, b = 8.374768790924474e+39, cost = 2.325331313157173e+85, iteration = 44, math = False\n",
      "m = -5.026860996677788e+42, b = -7.093333032660473e+40, cost = 1.668168395627098e+87, iteration = 45, math = False\n",
      "m = 4.2576935612799155e+43, b = 6.00797165490201e+41, cost = 1.196726582755561e+89, iteration = 46, math = False\n",
      "m = -3.606217572704928e+44, b = -5.088683026710746e+42, cost = 8.585191504814646e+90, iteration = 47, math = False\n",
      "m = 3.054424888618902e+45, b = 4.3100561110680525e+43, cost = 6.158926711950239e+92, iteration = 48, math = False\n",
      "m = -2.5870628191789245e+46, b = -3.650568051310261e+44, cost = 4.418349692246398e+94, iteration = 49, math = False\n",
      "m = 2.1912125111723684e+47, b = 3.0919892349022796e+45, cost = 3.169677918897043e+96, iteration = 50, math = False\n",
      "m = -1.8559318442225447e+48, b = -2.6188793892830366e+46, cost = 2.2738938312588415e+98, iteration = 51, math = False\n",
      "m = 1.571952967974059e+49, b = 2.2181607808308733e+47, cost = 1.6312676833853937e+100, iteration = 52, math = False\n",
      "m = -1.3314261195607527e+50, b = -1.878756719286422e+48, cost = 1.1702543972267976e+102, iteration = 53, math = False\n",
      "m = 1.127702639941742e+51, b = 1.5912853751483807e+49, cost = 8.395282810890497e+103, iteration = 54, math = False\n",
      "m = -9.551511912287871e+51, b = -1.347800446522359e+50, cost = 6.022688198553643e+105, iteration = 55, math = False\n",
      "m = 8.090020948721924e+52, b = 1.1415715069187284e+51, cost = 4.320613605767243e+107, iteration = 56, math = False\n",
      "m = -6.852154878910969e+53, b = -9.6689796235876e+51, cost = 3.0995630713248762e+109, iteration = 57, math = False\n",
      "m = 5.8036965271395205e+54, b = 8.189514751791012e+52, cost = 2.2235941719705942e+111, iteration = 58, math = False\n",
      "m = -4.915664338352587e+55, b = -6.936424988029658e+53, cost = 1.595183233199437e+113, iteration = 59, math = False\n",
      "m = 4.1635112680953706e+56, b = 5.875072342233698e+54, cost = 1.1443677895708487e+115, iteration = 60, math = False\n",
      "m = -3.526446251488082e+57, b = -4.976118834420492e+55, cost = 8.209574991461432e+116, iteration = 61, math = False\n",
      "m = 2.9868594952363866e+58, b = 4.214715532312912e+56, cost = 5.8894633486410615e+118, iteration = 62, math = False\n",
      "m = -2.5298357065612897e+59, b = -3.569815675510983e+57, cost = 4.225039489993353e+120, iteration = 63, math = False\n",
      "m = 2.1427418036903485e+60, b = 3.023592899549887e+58, cost = 3.0309991989545606e+122, iteration = 64, math = False\n",
      "m = -1.814877711376367e+61, b = -2.560948478355227e+59, cost = 2.174407166091987e+124, iteration = 65, math = False\n",
      "m = 1.5371805887102158e+62, b = 2.169093964258975e+60, cost = 1.5598969889477255e+126, iteration = 66, math = False\n",
      "m = -1.301974313473436e+63, b = -1.837197688883803e+61, cost = 1.1190538065147464e+128, iteration = 67, math = False\n",
      "m = 1.1027572982605405e+64, b = 1.556085353449907e+62, cost = 8.027975121100187e+129, iteration = 68, math = False\n",
      "m = -9.340227731702466e+64, b = -1.3179864322017813e+63, cost = 5.759185498481596e+131, iteration = 69, math = False\n",
      "m = 7.911065673079069e+65, b = 1.1163193790217116e+64, cost = 4.1315795210604973e+133, iteration = 70, math = False\n",
      "m = -6.70058181465373e+66, b = -9.455096998969969e+64, cost = 2.963951993445421e+135, iteration = 71, math = False\n",
      "m = 5.675315881607841e+67, b = 8.008358623880182e+65, cost = 2.1263082011777784e+137, iteration = 72, math = False\n",
      "m = -4.806927405257671e+68, b = -6.782987827164836e+66, cost = 1.5253912939191238e+139, iteration = 73, math = False\n",
      "m = 4.071412333945906e+69, b = 5.745112828273199e+67, cost = 1.0942997813183508e+141, iteration = 74, math = False\n",
      "m = -3.4484395114592517e+70, b = -4.866044617890066e+68, cost = 7.850392329936044e+142, iteration = 75, math = False\n",
      "m = 2.920788681864644e+71, b = 4.1214839344441324e+69, cost = 5.631789458979142e+144, iteration = 76, math = False\n",
      "m = -2.4738744860566226e+72, b = -3.49084958231364e+70, cost = 4.040186932992041e+146, iteration = 77, math = False\n",
      "m = 2.0953432922969455e+73, b = 2.956709525056746e+71, cost = 2.8983879053743045e+148, iteration = 78, math = False\n",
      "m = -1.7747317163096014e+74, b = -2.504299027908056e+72, cost = 2.0792732092222225e+150, iteration = 79, math = False\n",
      "m = 1.5031773917210986e+75, b = 2.121112530004404e+73, cost = 1.4916488819777036e+152, iteration = 80, math = False\n",
      "m = -1.273173995943435e+76, b = -1.7965579648449482e+74, cost = 1.0700933274360932e+154, iteration = 81, math = False\n"
     ]
    },
    {
     "name": "stdout",
     "output_type": "stream",
     "text": [
      "m = 1.0783637599090045e+77, b = 1.5216639736889034e+75, cost = 7.676737758184881e+155, iteration = 82, math = False\n",
      "m = -9.133617261978298e+77, b = -1.2888319186642775e+76, cost = 5.507211483052723e+157, iteration = 83, math = False\n",
      "m = 7.736068976886559e+78, b = 1.0916258407176056e+77, cost = 3.950815994297939e+159, iteration = 84, math = False\n",
      "m = -6.552361621750738e+79, b = -9.245945564084275e+77, cost = 2.8342741274479203e+161, iteration = 85, math = False\n",
      "m = 5.549775079625887e+80, b = 7.831209759363375e+78, cost = 2.0332786546157922e+163, iteration = 86, math = False\n",
      "m = -4.700595787051052e+81, b = -6.632944772395721e+79, cost = 1.4586528689230229e+165, iteration = 87, math = False\n",
      "m = 3.9813506738964224e+82, b = 5.618028083215113e+80, cost = 1.0464223323189359e+167, iteration = 88, math = False\n",
      "m = -3.3721583192074084e+83, b = -4.758405297620753e+81, cost = 7.506924511685083e+168, iteration = 89, math = False\n",
      "m = 2.8561793876525963e+84, b = 4.030314665758547e+82, cost = 5.385389233738411e+170, iteration = 90, math = False\n",
      "m = -2.419151155503564e+85, b = -3.4136302582611655e+83, cost = 3.863421985091391e+172, iteration = 91, math = False\n",
      "m = 2.0489932594829217e+86, b = 2.8913056439782975e+84, cost = 2.7715785780865825e+174, iteration = 92, math = False\n",
      "m = -1.735473770564174e+87, b = -2.4489026914001495e+85, cost = 1.9883015223683182e+176, iteration = 93, math = False\n",
      "m = 1.4699263623133136e+88, b = 2.074192468872002e+86, cost = 1.4263867440415296e+178, iteration = 94, math = False\n",
      "m = -1.2450107557207557e+89, b = -1.7568172116571609e+87, cost = 1.0232749513534321e+180, iteration = 95, math = False\n",
      "m = 1.054509818723813e+90, b = 1.4880040119195451e+88, cost = 7.340867618416979e+181, iteration = 96, math = False\n",
      "m = -8.931577118313173e+90, b = -1.2603223174254442e+89, cost = 5.266261752996851e+183, iteration = 97, math = False\n",
      "m = 7.564943294403676e+91, b = 1.067478535727581e+90, cost = 3.7779611747116694e+185, iteration = 98, math = False\n",
      "m = -6.407420133024764e+92, b = -9.041420662667186e+90, cost = 2.7102698853710618e+187, iteration = 99, math = False\n",
      "m = 5.427011302445904e+93, b = 7.657979515586899e+91, cost = 1.9443193065926286e+189, iteration = 100, math = False\n",
      "m = -4.5966162769744745e+94, b = -6.486220744412156e+92, cost = 1.3948343618448442e+191, iteration = 101, math = False\n",
      "m = 3.893281222433439e+95, b = 5.493754515745566e+93, cost = 1.000639601934861e+193, iteration = 102, math = False\n",
      "m = -3.29756450475994e+96, b = -4.6531470124996684e+94, cost = 7.178483985984102e+194, iteration = 103, math = False\n",
      "m = 2.7929992830715875e+97, b = 3.9411621065118125e+95, cost = 5.1497694312107305e+196, iteration = 104, math = False\n",
      "m = -2.3656383321624506e+98, b = -3.3381190639537626e+96, cost = 3.6943907998419584e+198, iteration = 105, math = False\n",
      "m = 2.0036685123821077e+99, b = 2.8273485291864483e+97, cost = 2.6503173713445427e+200, iteration = 106, math = False\n",
      "m = -1.6970842300486683e+100, b = -2.3947317493296888e+98, cost = 1.9013099992429421e+202, iteration = 107, math = False\n",
      "m = 1.4374108621669228e+101, b = 2.028310302761918e+99, cost = 1.3639799339907985e+204, iteration = 108, math = False\n",
      "m = -1.217470500339399e+102, b = -1.7179555436393693e+100, cost = 9.785049576714621e+205, iteration = 109, math = False\n",
      "m = 1.0311835385480336e+103, b = 1.4550886251982284e+101, cost = 7.019692360035035e+207, iteration = 110, math = False\n",
      "m = -8.734006202828014e+103, b = -1.23244336270539e+102, cost = 5.0358539773570514e+209, iteration = 111, math = False\n",
      "m = 7.397602996887337e+104, b = 1.043865381099825e+103, cost = 3.612669043111207e+211, iteration = 112, math = False\n",
      "m = -6.265684821913348e+105, b = -8.84141995350386e+103, cost = 2.591691036661821e+213, iteration = 113, math = False\n",
      "m = 5.306963120902011e+106, b = 7.488581210716548e+104, cost = 1.8592520791023535e+215, iteration = 114, math = False\n",
      "m = -4.494936845229576e+107, b = -6.342742324695573e+105, cost = 1.3338080213831797e+217, iteration = 115, math = False\n",
      "m = 3.8071599109149835e+108, b = 5.372229941222095e+106, cost = 9.568599427168775e+218, iteration = 116, math = False\n",
      "m = -3.224620742482956e+109, b = -4.5502170928484535e+107, cost = 6.864413283604887e+220, iteration = 117, math = False\n",
      "m = 2.7312167537381716e+110, b = 3.853981646090953e+108, cost = 4.924458389839141e+222, iteration = 118, math = False\n",
      "m = -2.3133092390134018e+111, b = -3.2642782147143204e+109, cost = 3.5327550121693588e+224, iteration = 119, math = False\n",
      "m = 1.959346371166035e+112, b = 2.7648061774934157e+110, cost = 2.534361545578093e+226, iteration = 120, math = False\n",
      "m = -1.6595438852087117e+113, b = -2.3417590953639804e+111, cost = 1.8181245010139606e+228, iteration = 121, math = False\n",
      "m = 1.4056146210098777e+114, b = 1.9834430729215145e+112, cost = 1.3043035264462443e+230, iteration = 122, math = False\n",
      "m = -1.1905394490657067e+115, b = -1.6799535149916294e+113, cost = 9.356937262279628e+231, iteration = 123, math = False\n",
      "m = 1.0083732472584435e+116, b = 1.42290134315562e+114, cost = 6.7125690573562495e+233, iteration = 124, math = False\n",
      "m = -8.540805653978956e+116, b = -1.2051811042903498e+115, cost = 4.815526927963924e+235, iteration = 125, math = False\n",
      "m = 7.233964349744711e+117, b = 1.0207745611634117e+116, cost = 3.454608719225421e+237, iteration = 126, math = False\n",
      "m = -6.127084766177536e+118, b = -8.645843359217853e+116, cost = 2.4783002112697787e+239, iteration = 127, math = False\n",
      "m = 5.189570464671929e+119, b = 7.322930080363246e+117, cost = 1.7779066853501594e+241, iteration = 128, math = False\n",
      "m = -4.395506612942926e+120, b = -6.202437718781446e+118, cost = 1.2754516855701074e+243, iteration = 129, math = False\n",
      "m = 3.7229436455192992e+121, b = 5.2533935505573606e+119, cost = 9.149957169451969e+244, iteration = 130, math = False\n",
      "m = -3.153290532404097e+122, b = -4.4495640340681584e+120, cost = 6.5640837006995804e+246, iteration = 131, math = False\n",
      "m = 2.6708008845947414e+123, b = 3.768729660691872e+121, cost = 4.70900508405009e+248, iteration = 132, math = False\n",
      "m = -2.2621376913574953e+124, b = -3.1920707616815266e+122, cost = 3.378191061038161e+250, iteration = 133, math = False\n",
      "m = 1.916004657695288e+125, b = 2.703647293637797e+123, cost = 2.423478981480058e+252, iteration = 134, math = False\n",
      "m = -1.6228339514147998e+126, b = -2.289958222775853e+124, cost = 1.7385785077149243e+254, iteration = 135, math = False\n",
      "m = 1.3745217284766152e+127, b = 1.9395683284571426e+125, cost = 1.2472380617232613e+256, iteration = 136, math = False\n",
      "m = -1.1642041260026798e+128, b = -1.642792110064735e+126, cost = 8.947555578929722e+257, iteration = 137, math = False\n",
      "m = 9.860675309249742e+128, b = 1.3914260597551198e+127, cost = 6.418882913773676e+259, iteration = 138, math = False\n",
      "m = -8.351878797088514e+129, b = -1.178521900552205e+128, cost = 4.604839556153295e+261, iteration = 139, math = False\n",
      "m = 7.073945470633691e+130, b = 9.981945216159155e+128, cost = 3.303463799349449e+263, iteration = 140, math = False\n",
      "m = -5.991550612413491e+131, b = -8.45459301619393e+129, cost = 2.3698704244819527e+265, iteration = 141, math = False\n",
      "m = 5.0747745922187064e+132, b = 7.160943235168271e+130, cost = 1.700120288873845e+267, iteration = 142, math = False\n",
      "m = -4.298275826707021e+133, b = -6.065236720334401e+131, cost = 1.2196485372284946e+269, iteration = 143, math = False\n",
      "m = 3.640590285681342e+134, b = 5.137185879791207e+132, cost = 8.749631211971189e+270, iteration = 144, math = False\n",
      "m = -3.083538181948501e+135, b = -4.3511374708671104e+133, cost = 6.276894040267113e+272, iteration = 145, math = False\n",
      "m = 2.6117214444400984e+136, b = 3.68536349149066e+134, cost = 4.502978221394611e+274, iteration = 146, math = False\n",
      "m = -2.212098083714339e+137, b = -3.121460573321204e+135, cost = 3.230389541750381e+276, iteration = 147, math = False\n",
      "m = 1.8736216844218978e+138, b = 2.6438412746249006e+136, cost = 2.317447715351885e+278, iteration = 148, math = False\n",
      "m = -1.586936059562753e+139, b = -2.23930321118009e+137, cost = 1.6625127849069372e+280, iteration = 149, math = False\n",
      "m = 1.3441166261467531e+140, b = 1.8966641151000655e+138, cost = 1.1926693066986145e+282, iteration = 150, math = False\n",
      "m = -1.1384513533468479e+141, b = -1.6064527338450758e+139, cost = 8.556085030170636e+283, iteration = 151, math = False\n",
      "m = 9.642552280993527e+141, b = 1.3606470252336506e+140, cost = 6.13804603106209e+285, iteration = 152, math = False\n",
      "m = -8.167131095971032e+142, b = -1.152452411622417e+141, cost = 4.403370109879062e+287, iteration = 153, math = False\n",
      "m = 6.917466288490198e+143, b = 9.761139637418127e+141, cost = 3.158931722970684e+289, iteration = 154, math = False\n",
      "m = -5.8590145413490594e+144, b = -8.267573225608575e+142, cost = 2.2661846225468903e+291, iteration = 155, math = False\n",
      "m = 4.9625180613973254e+145, b = 7.002539619326608e+143, cost = 1.625737177579273e+293, iteration = 156, math = False\n",
      "m = -4.203195833684398e+146, b = -5.931070676018033e+144, cost = 1.1662868701284434e+295, iteration = 157, math = False\n",
      "m = 3.560058623006265e+147, b = 5.023548780335756e+145, cost = 8.366820185901017e+296, iteration = 158, math = False\n",
      "m = -3.015328788078759e+148, b = -4.254888152058861e+146, cost = 6.0022694086825505e+298, iteration = 159, math = False\n",
      "m = 2.5539488708022084e+149, b = 3.603841423297749e+147, cost = 4.305965379191022e+300, iteration = 160, math = False\n",
      "m = -2.1631653770094626e+150, b = -3.0524123173466356e+148, cost = 3.089054586582002e+302, iteration = 161, math = False\n",
      "m = 1.8321762435372103e+151, b = 2.585358194413448e+149, cost = 2.2160554947787444e+304, iteration = 162, math = False\n",
      "m = -1.5518322468820834e+152, b = -2.1897687135632508e+150, cost = 1.589775064924609e+306, iteration = 163, math = False\n"
     ]
    },
    {
     "ename": "OverflowError",
     "evalue": "(34, 'Result too large')",
     "output_type": "error",
     "traceback": [
      "\u001b[1;31m---------------------------------------------------------------------------\u001b[0m",
      "\u001b[1;31mOverflowError\u001b[0m                             Traceback (most recent call last)",
      "\u001b[1;32m<ipython-input-43-6b5225cbb1d1>\u001b[0m in \u001b[0;36m<module>\u001b[1;34m\u001b[0m\n\u001b[0;32m     24\u001b[0m \u001b[0mx\u001b[0m \u001b[1;33m=\u001b[0m \u001b[0mtest_score\u001b[0m\u001b[1;33m[\u001b[0m\u001b[1;34m\"math\"\u001b[0m\u001b[1;33m]\u001b[0m\u001b[1;33m\u001b[0m\u001b[1;33m\u001b[0m\u001b[0m\n\u001b[0;32m     25\u001b[0m \u001b[0my\u001b[0m \u001b[1;33m=\u001b[0m \u001b[0mtest_score\u001b[0m\u001b[1;33m[\u001b[0m\u001b[1;34m\"cs\"\u001b[0m\u001b[1;33m]\u001b[0m\u001b[1;33m\u001b[0m\u001b[1;33m\u001b[0m\u001b[0m\n\u001b[1;32m---> 26\u001b[1;33m \u001b[0mgradiant_decent\u001b[0m\u001b[1;33m(\u001b[0m\u001b[0mx\u001b[0m\u001b[1;33m,\u001b[0m\u001b[0my\u001b[0m\u001b[1;33m)\u001b[0m\u001b[1;33m\u001b[0m\u001b[1;33m\u001b[0m\u001b[0m\n\u001b[0m",
      "\u001b[1;32m<ipython-input-43-6b5225cbb1d1>\u001b[0m in \u001b[0;36mgradiant_decent\u001b[1;34m(x, y)\u001b[0m\n\u001b[0;32m     11\u001b[0m         \u001b[0mbd\u001b[0m \u001b[1;33m=\u001b[0m \u001b[1;33m-\u001b[0m\u001b[1;33m(\u001b[0m\u001b[1;36m2\u001b[0m\u001b[1;33m/\u001b[0m\u001b[0mn\u001b[0m\u001b[1;33m)\u001b[0m \u001b[1;33m*\u001b[0m \u001b[0msum\u001b[0m\u001b[1;33m(\u001b[0m\u001b[0my\u001b[0m \u001b[1;33m-\u001b[0m \u001b[0my_predict\u001b[0m\u001b[1;33m)\u001b[0m\u001b[1;33m\u001b[0m\u001b[1;33m\u001b[0m\u001b[0m\n\u001b[0;32m     12\u001b[0m \u001b[1;33m\u001b[0m\u001b[0m\n\u001b[1;32m---> 13\u001b[1;33m         \u001b[0mcost\u001b[0m \u001b[1;33m=\u001b[0m \u001b[1;33m(\u001b[0m\u001b[1;36m1\u001b[0m\u001b[1;33m/\u001b[0m\u001b[0mn\u001b[0m\u001b[1;33m)\u001b[0m\u001b[1;33m*\u001b[0m\u001b[0msum\u001b[0m\u001b[1;33m(\u001b[0m\u001b[1;33m[\u001b[0m\u001b[0mvar\u001b[0m\u001b[1;33m**\u001b[0m\u001b[1;36m2\u001b[0m \u001b[1;32mfor\u001b[0m \u001b[0mvar\u001b[0m \u001b[1;32min\u001b[0m \u001b[1;33m(\u001b[0m\u001b[0my\u001b[0m\u001b[1;33m-\u001b[0m\u001b[0my_predict\u001b[0m\u001b[1;33m)\u001b[0m\u001b[1;33m]\u001b[0m \u001b[1;33m)\u001b[0m\u001b[1;33m\u001b[0m\u001b[1;33m\u001b[0m\u001b[0m\n\u001b[0m\u001b[0;32m     14\u001b[0m \u001b[1;33m\u001b[0m\u001b[0m\n\u001b[0;32m     15\u001b[0m         \u001b[0mm_cur\u001b[0m \u001b[1;33m=\u001b[0m \u001b[0mm_cur\u001b[0m \u001b[1;33m-\u001b[0m \u001b[0mlearning_rate\u001b[0m\u001b[1;33m*\u001b[0m\u001b[0mmd\u001b[0m\u001b[1;33m\u001b[0m\u001b[1;33m\u001b[0m\u001b[0m\n",
      "\u001b[1;32m<ipython-input-43-6b5225cbb1d1>\u001b[0m in \u001b[0;36m<listcomp>\u001b[1;34m(.0)\u001b[0m\n\u001b[0;32m     11\u001b[0m         \u001b[0mbd\u001b[0m \u001b[1;33m=\u001b[0m \u001b[1;33m-\u001b[0m\u001b[1;33m(\u001b[0m\u001b[1;36m2\u001b[0m\u001b[1;33m/\u001b[0m\u001b[0mn\u001b[0m\u001b[1;33m)\u001b[0m \u001b[1;33m*\u001b[0m \u001b[0msum\u001b[0m\u001b[1;33m(\u001b[0m\u001b[0my\u001b[0m \u001b[1;33m-\u001b[0m \u001b[0my_predict\u001b[0m\u001b[1;33m)\u001b[0m\u001b[1;33m\u001b[0m\u001b[1;33m\u001b[0m\u001b[0m\n\u001b[0;32m     12\u001b[0m \u001b[1;33m\u001b[0m\u001b[0m\n\u001b[1;32m---> 13\u001b[1;33m         \u001b[0mcost\u001b[0m \u001b[1;33m=\u001b[0m \u001b[1;33m(\u001b[0m\u001b[1;36m1\u001b[0m\u001b[1;33m/\u001b[0m\u001b[0mn\u001b[0m\u001b[1;33m)\u001b[0m\u001b[1;33m*\u001b[0m\u001b[0msum\u001b[0m\u001b[1;33m(\u001b[0m\u001b[1;33m[\u001b[0m\u001b[0mvar\u001b[0m\u001b[1;33m**\u001b[0m\u001b[1;36m2\u001b[0m \u001b[1;32mfor\u001b[0m \u001b[0mvar\u001b[0m \u001b[1;32min\u001b[0m \u001b[1;33m(\u001b[0m\u001b[0my\u001b[0m\u001b[1;33m-\u001b[0m\u001b[0my_predict\u001b[0m\u001b[1;33m)\u001b[0m\u001b[1;33m]\u001b[0m \u001b[1;33m)\u001b[0m\u001b[1;33m\u001b[0m\u001b[1;33m\u001b[0m\u001b[0m\n\u001b[0m\u001b[0;32m     14\u001b[0m \u001b[1;33m\u001b[0m\u001b[0m\n\u001b[0;32m     15\u001b[0m         \u001b[0mm_cur\u001b[0m \u001b[1;33m=\u001b[0m \u001b[0mm_cur\u001b[0m \u001b[1;33m-\u001b[0m \u001b[0mlearning_rate\u001b[0m\u001b[1;33m*\u001b[0m\u001b[0mmd\u001b[0m\u001b[1;33m\u001b[0m\u001b[1;33m\u001b[0m\u001b[0m\n",
      "\u001b[1;31mOverflowError\u001b[0m: (34, 'Result too large')"
     ]
    }
   ],
   "source": [
    "# Now we will have to make a function for gradiant decent \n",
    "import math\n",
    "def gradiant_decent(x,y):\n",
    "    m_cur = b_cur = 0\n",
    "    iterations = 1000\n",
    "    learning_rate = 0.001\n",
    "    n = len(x)\n",
    "    for i in range(iterations+1):\n",
    "        y_predict = m_cur* x + b_cur\n",
    "        md = -(2/n) * sum( x*(y - y_predict))\n",
    "        bd = -(2/n) * sum(y - y_predict)\n",
    "        \n",
    "        cost = (1/n)*sum([var**2 for var in (y-y_predict)] )\n",
    "        \n",
    "        m_cur = m_cur - learning_rate*md\n",
    "        b_cur = b_cur - learning_rate*bd\n",
    "        \n",
    "        \n",
    "        print(f\"m = {m_cur}, b = {b_cur}, cost = {cost}, iteration = {i}, math = {math.isclose(m_cur, b_cur, rel_tol=1e-20)}\")\n",
    "        \n",
    "        \n",
    "\n",
    "\n",
    "x = test_score[\"math\"]\n",
    "y = test_score[\"cs\"]\n",
    "gradiant_decent(x,y)"
   ]
  },
  {
   "cell_type": "markdown",
   "metadata": {},
   "source": [
    "## Building a logistic Regression Model\n"
   ]
  },
  {
   "cell_type": "code",
   "execution_count": 44,
   "metadata": {},
   "outputs": [
    {
     "data": {
      "text/html": [
       "<div>\n",
       "<style scoped>\n",
       "    .dataframe tbody tr th:only-of-type {\n",
       "        vertical-align: middle;\n",
       "    }\n",
       "\n",
       "    .dataframe tbody tr th {\n",
       "        vertical-align: top;\n",
       "    }\n",
       "\n",
       "    .dataframe thead th {\n",
       "        text-align: right;\n",
       "    }\n",
       "</style>\n",
       "<table border=\"1\" class=\"dataframe\">\n",
       "  <thead>\n",
       "    <tr style=\"text-align: right;\">\n",
       "      <th></th>\n",
       "      <th>satisfaction_level</th>\n",
       "      <th>last_evaluation</th>\n",
       "      <th>number_project</th>\n",
       "      <th>average_montly_hours</th>\n",
       "      <th>time_spend_company</th>\n",
       "      <th>Work_accident</th>\n",
       "      <th>left</th>\n",
       "      <th>promotion_last_5years</th>\n",
       "      <th>Department</th>\n",
       "      <th>salary</th>\n",
       "    </tr>\n",
       "  </thead>\n",
       "  <tbody>\n",
       "    <tr>\n",
       "      <th>0</th>\n",
       "      <td>0.38</td>\n",
       "      <td>0.53</td>\n",
       "      <td>2</td>\n",
       "      <td>157</td>\n",
       "      <td>3</td>\n",
       "      <td>0</td>\n",
       "      <td>1</td>\n",
       "      <td>0</td>\n",
       "      <td>sales</td>\n",
       "      <td>low</td>\n",
       "    </tr>\n",
       "    <tr>\n",
       "      <th>1</th>\n",
       "      <td>0.80</td>\n",
       "      <td>0.86</td>\n",
       "      <td>5</td>\n",
       "      <td>262</td>\n",
       "      <td>6</td>\n",
       "      <td>0</td>\n",
       "      <td>1</td>\n",
       "      <td>0</td>\n",
       "      <td>sales</td>\n",
       "      <td>medium</td>\n",
       "    </tr>\n",
       "    <tr>\n",
       "      <th>2</th>\n",
       "      <td>0.11</td>\n",
       "      <td>0.88</td>\n",
       "      <td>7</td>\n",
       "      <td>272</td>\n",
       "      <td>4</td>\n",
       "      <td>0</td>\n",
       "      <td>1</td>\n",
       "      <td>0</td>\n",
       "      <td>sales</td>\n",
       "      <td>medium</td>\n",
       "    </tr>\n",
       "    <tr>\n",
       "      <th>3</th>\n",
       "      <td>0.72</td>\n",
       "      <td>0.87</td>\n",
       "      <td>5</td>\n",
       "      <td>223</td>\n",
       "      <td>5</td>\n",
       "      <td>0</td>\n",
       "      <td>1</td>\n",
       "      <td>0</td>\n",
       "      <td>sales</td>\n",
       "      <td>low</td>\n",
       "    </tr>\n",
       "    <tr>\n",
       "      <th>4</th>\n",
       "      <td>0.37</td>\n",
       "      <td>0.52</td>\n",
       "      <td>2</td>\n",
       "      <td>159</td>\n",
       "      <td>3</td>\n",
       "      <td>0</td>\n",
       "      <td>1</td>\n",
       "      <td>0</td>\n",
       "      <td>sales</td>\n",
       "      <td>low</td>\n",
       "    </tr>\n",
       "    <tr>\n",
       "      <th>...</th>\n",
       "      <td>...</td>\n",
       "      <td>...</td>\n",
       "      <td>...</td>\n",
       "      <td>...</td>\n",
       "      <td>...</td>\n",
       "      <td>...</td>\n",
       "      <td>...</td>\n",
       "      <td>...</td>\n",
       "      <td>...</td>\n",
       "      <td>...</td>\n",
       "    </tr>\n",
       "    <tr>\n",
       "      <th>14994</th>\n",
       "      <td>0.40</td>\n",
       "      <td>0.57</td>\n",
       "      <td>2</td>\n",
       "      <td>151</td>\n",
       "      <td>3</td>\n",
       "      <td>0</td>\n",
       "      <td>1</td>\n",
       "      <td>0</td>\n",
       "      <td>support</td>\n",
       "      <td>low</td>\n",
       "    </tr>\n",
       "    <tr>\n",
       "      <th>14995</th>\n",
       "      <td>0.37</td>\n",
       "      <td>0.48</td>\n",
       "      <td>2</td>\n",
       "      <td>160</td>\n",
       "      <td>3</td>\n",
       "      <td>0</td>\n",
       "      <td>1</td>\n",
       "      <td>0</td>\n",
       "      <td>support</td>\n",
       "      <td>low</td>\n",
       "    </tr>\n",
       "    <tr>\n",
       "      <th>14996</th>\n",
       "      <td>0.37</td>\n",
       "      <td>0.53</td>\n",
       "      <td>2</td>\n",
       "      <td>143</td>\n",
       "      <td>3</td>\n",
       "      <td>0</td>\n",
       "      <td>1</td>\n",
       "      <td>0</td>\n",
       "      <td>support</td>\n",
       "      <td>low</td>\n",
       "    </tr>\n",
       "    <tr>\n",
       "      <th>14997</th>\n",
       "      <td>0.11</td>\n",
       "      <td>0.96</td>\n",
       "      <td>6</td>\n",
       "      <td>280</td>\n",
       "      <td>4</td>\n",
       "      <td>0</td>\n",
       "      <td>1</td>\n",
       "      <td>0</td>\n",
       "      <td>support</td>\n",
       "      <td>low</td>\n",
       "    </tr>\n",
       "    <tr>\n",
       "      <th>14998</th>\n",
       "      <td>0.37</td>\n",
       "      <td>0.52</td>\n",
       "      <td>2</td>\n",
       "      <td>158</td>\n",
       "      <td>3</td>\n",
       "      <td>0</td>\n",
       "      <td>1</td>\n",
       "      <td>0</td>\n",
       "      <td>support</td>\n",
       "      <td>low</td>\n",
       "    </tr>\n",
       "  </tbody>\n",
       "</table>\n",
       "<p>14999 rows × 10 columns</p>\n",
       "</div>"
      ],
      "text/plain": [
       "       satisfaction_level  last_evaluation  number_project  \\\n",
       "0                    0.38             0.53               2   \n",
       "1                    0.80             0.86               5   \n",
       "2                    0.11             0.88               7   \n",
       "3                    0.72             0.87               5   \n",
       "4                    0.37             0.52               2   \n",
       "...                   ...              ...             ...   \n",
       "14994                0.40             0.57               2   \n",
       "14995                0.37             0.48               2   \n",
       "14996                0.37             0.53               2   \n",
       "14997                0.11             0.96               6   \n",
       "14998                0.37             0.52               2   \n",
       "\n",
       "       average_montly_hours  time_spend_company  Work_accident  left  \\\n",
       "0                       157                   3              0     1   \n",
       "1                       262                   6              0     1   \n",
       "2                       272                   4              0     1   \n",
       "3                       223                   5              0     1   \n",
       "4                       159                   3              0     1   \n",
       "...                     ...                 ...            ...   ...   \n",
       "14994                   151                   3              0     1   \n",
       "14995                   160                   3              0     1   \n",
       "14996                   143                   3              0     1   \n",
       "14997                   280                   4              0     1   \n",
       "14998                   158                   3              0     1   \n",
       "\n",
       "       promotion_last_5years Department  salary  \n",
       "0                          0      sales     low  \n",
       "1                          0      sales  medium  \n",
       "2                          0      sales  medium  \n",
       "3                          0      sales     low  \n",
       "4                          0      sales     low  \n",
       "...                      ...        ...     ...  \n",
       "14994                      0    support     low  \n",
       "14995                      0    support     low  \n",
       "14996                      0    support     low  \n",
       "14997                      0    support     low  \n",
       "14998                      0    support     low  \n",
       "\n",
       "[14999 rows x 10 columns]"
      ]
     },
     "execution_count": 44,
     "metadata": {},
     "output_type": "execute_result"
    }
   ],
   "source": [
    "hr = pd.read_csv(\"canada/HR_comma_sep.csv\")\n",
    "hr"
   ]
  },
  {
   "cell_type": "code",
   "execution_count": 45,
   "metadata": {},
   "outputs": [
    {
     "data": {
      "text/plain": [
       "satisfaction_level       0\n",
       "last_evaluation          0\n",
       "number_project           0\n",
       "average_montly_hours     0\n",
       "time_spend_company       0\n",
       "Work_accident            0\n",
       "left                     0\n",
       "promotion_last_5years    0\n",
       "Department               0\n",
       "salary                   0\n",
       "dtype: int64"
      ]
     },
     "execution_count": 45,
     "metadata": {},
     "output_type": "execute_result"
    }
   ],
   "source": [
    "hr.isna().sum()"
   ]
  },
  {
   "cell_type": "code",
   "execution_count": 53,
   "metadata": {},
   "outputs": [
    {
     "name": "stdout",
     "output_type": "stream",
     "text": [
      "<class 'pandas.core.frame.DataFrame'>\n",
      "RangeIndex: 14999 entries, 0 to 14998\n",
      "Data columns (total 10 columns):\n",
      " #   Column                 Non-Null Count  Dtype  \n",
      "---  ------                 --------------  -----  \n",
      " 0   satisfaction_level     14999 non-null  float64\n",
      " 1   last_evaluation        14999 non-null  float64\n",
      " 2   number_project         14999 non-null  int64  \n",
      " 3   average_montly_hours   14999 non-null  int64  \n",
      " 4   time_spend_company     14999 non-null  int64  \n",
      " 5   Work_accident          14999 non-null  int64  \n",
      " 6   left                   14999 non-null  int64  \n",
      " 7   promotion_last_5years  14999 non-null  int64  \n",
      " 8   Department             14999 non-null  object \n",
      " 9   salary                 14999 non-null  object \n",
      "dtypes: float64(2), int64(6), object(2)\n",
      "memory usage: 1.1+ MB\n"
     ]
    }
   ],
   "source": [
    "hr.info()"
   ]
  },
  {
   "cell_type": "code",
   "execution_count": 47,
   "metadata": {},
   "outputs": [
    {
     "data": {
      "text/plain": [
       "satisfaction_level       float64\n",
       "last_evaluation          float64\n",
       "number_project             int64\n",
       "average_montly_hours       int64\n",
       "time_spend_company         int64\n",
       "Work_accident              int64\n",
       "left                       int64\n",
       "promotion_last_5years      int64\n",
       "Department                object\n",
       "salary                    object\n",
       "dtype: object"
      ]
     },
     "execution_count": 47,
     "metadata": {},
     "output_type": "execute_result"
    }
   ],
   "source": [
    "hr.dtypes"
   ]
  },
  {
   "cell_type": "code",
   "execution_count": 55,
   "metadata": {},
   "outputs": [],
   "source": [
    "# Converting Object data type into numeric for Machines to learn and Understand\n",
    "for label, content in hr.items():\n",
    "    if not pd.api.types.is_numeric_dtype(content):\n",
    "        hr[label] = pd.Categorical(content).codes"
   ]
  },
  {
   "cell_type": "code",
   "execution_count": 64,
   "metadata": {},
   "outputs": [],
   "source": [
    "# Converting Floats to Categorical Values\n",
    "for label, content in hr.items():\n",
    "    if pd.api.types.is_float_dtype(content):\n",
    "        hr[label] = pd.Categorical(content).codes"
   ]
  },
  {
   "cell_type": "code",
   "execution_count": 70,
   "metadata": {},
   "outputs": [],
   "source": [
    "from sklearn.linear_model import LogisticRegression\n",
    "from sklearn.model_selection import train_test_split\n",
    "\n",
    "X = hr.drop([\"satisfaction_level\"], axis = \"columns\")\n",
    "Y = hr[\"satisfaction_level\"]\n",
    "\n",
    "model = LogisticRegression(n_jobs= -1)"
   ]
  },
  {
   "cell_type": "code",
   "execution_count": 71,
   "metadata": {},
   "outputs": [],
   "source": [
    "X_train, X_test, Y_train, Y_test = train_test_split(X,Y, test_size = 0.2)"
   ]
  },
  {
   "cell_type": "code",
   "execution_count": 72,
   "metadata": {},
   "outputs": [
    {
     "data": {
      "text/plain": [
       "LogisticRegression(n_jobs=-1)"
      ]
     },
     "execution_count": 72,
     "metadata": {},
     "output_type": "execute_result"
    }
   ],
   "source": [
    "model.fit(X_train, Y_train)"
   ]
  },
  {
   "cell_type": "code",
   "execution_count": 73,
   "metadata": {},
   "outputs": [
    {
     "data": {
      "text/plain": [
       "0.034333333333333334"
      ]
     },
     "execution_count": 73,
     "metadata": {},
     "output_type": "execute_result"
    }
   ],
   "source": [
    "model.score(X_test, Y_test)"
   ]
  },
  {
   "cell_type": "code",
   "execution_count": null,
   "metadata": {},
   "outputs": [],
   "source": []
  },
  {
   "cell_type": "code",
   "execution_count": null,
   "metadata": {},
   "outputs": [],
   "source": []
  }
 ],
 "metadata": {
  "kernelspec": {
   "display_name": "Python 3",
   "language": "python",
   "name": "python3"
  },
  "language_info": {
   "codemirror_mode": {
    "name": "ipython",
    "version": 3
   },
   "file_extension": ".py",
   "mimetype": "text/x-python",
   "name": "python",
   "nbconvert_exporter": "python",
   "pygments_lexer": "ipython3",
   "version": "3.8.5"
  }
 },
 "nbformat": 4,
 "nbformat_minor": 4
}
